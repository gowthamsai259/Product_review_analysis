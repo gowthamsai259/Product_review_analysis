{
 "cells": [
  {
   "cell_type": "code",
   "execution_count": 1,
   "id": "5b45a3a1",
   "metadata": {},
   "outputs": [],
   "source": [
    "import pandas as pd #importing libraries\n",
    "import numpy as np"
   ]
  },
  {
   "cell_type": "code",
   "execution_count": 2,
   "id": "5fca7156",
   "metadata": {},
   "outputs": [],
   "source": [
    "data = pd.read_csv('Product_Reviews.csv')"
   ]
  },
  {
   "cell_type": "code",
   "execution_count": 3,
   "id": "3d77ffde",
   "metadata": {},
   "outputs": [
    {
     "data": {
      "text/html": [
       "<div>\n",
       "<style scoped>\n",
       "    .dataframe tbody tr th:only-of-type {\n",
       "        vertical-align: middle;\n",
       "    }\n",
       "\n",
       "    .dataframe tbody tr th {\n",
       "        vertical-align: top;\n",
       "    }\n",
       "\n",
       "    .dataframe thead th {\n",
       "        text-align: right;\n",
       "    }\n",
       "</style>\n",
       "<table border=\"1\" class=\"dataframe\">\n",
       "  <thead>\n",
       "    <tr style=\"text-align: right;\">\n",
       "      <th></th>\n",
       "      <th>Unnamed: 0</th>\n",
       "      <th>Review-Title</th>\n",
       "      <th>rating</th>\n",
       "      <th>Review-Body</th>\n",
       "      <th>Product Name</th>\n",
       "    </tr>\n",
       "  </thead>\n",
       "  <tbody>\n",
       "    <tr>\n",
       "      <th>0</th>\n",
       "      <td>0</td>\n",
       "      <td>Worst phone ever</td>\n",
       "      <td>1.0 out of 5 stars</td>\n",
       "      <td>Hang problem</td>\n",
       "      <td>OnePlus Nord CE 2 5G (Gray Mirror, 8GB RAM, 12...</td>\n",
       "    </tr>\n",
       "    <tr>\n",
       "      <th>1</th>\n",
       "      <td>1</td>\n",
       "      <td>Ok !!! Not up to the mark</td>\n",
       "      <td>2.0 out of 5 stars</td>\n",
       "      <td>I'm writing this review after using 3days !!!B...</td>\n",
       "      <td>OnePlus Nord CE 2 5G (Gray Mirror, 8GB RAM, 12...</td>\n",
       "    </tr>\n",
       "    <tr>\n",
       "      <th>2</th>\n",
       "      <td>2</td>\n",
       "      <td>Awesome look</td>\n",
       "      <td>5.0 out of 5 stars</td>\n",
       "      <td>Camera is so good n very fast phone back look ...</td>\n",
       "      <td>OnePlus Nord CE 2 5G (Gray Mirror, 8GB RAM, 12...</td>\n",
       "    </tr>\n",
       "    <tr>\n",
       "      <th>3</th>\n",
       "      <td>3</td>\n",
       "      <td>One plus losing is originality!!!</td>\n",
       "      <td>3.0 out of 5 stars</td>\n",
       "      <td>The media could not be loaded.\\n              ...</td>\n",
       "      <td>OnePlus Nord CE 2 5G (Gray Mirror, 8GB RAM, 12...</td>\n",
       "    </tr>\n",
       "    <tr>\n",
       "      <th>4</th>\n",
       "      <td>4</td>\n",
       "      <td>Read</td>\n",
       "      <td>1.0 out of 5 stars</td>\n",
       "      <td>I got my delivery on 23 feb when I unboxed the...</td>\n",
       "      <td>OnePlus Nord CE 2 5G (Gray Mirror, 8GB RAM, 12...</td>\n",
       "    </tr>\n",
       "  </tbody>\n",
       "</table>\n",
       "</div>"
      ],
      "text/plain": [
       "   Unnamed: 0                       Review-Title              rating  \\\n",
       "0           0                   Worst phone ever  1.0 out of 5 stars   \n",
       "1           1          Ok !!! Not up to the mark  2.0 out of 5 stars   \n",
       "2           2                       Awesome look  5.0 out of 5 stars   \n",
       "3           3  One plus losing is originality!!!  3.0 out of 5 stars   \n",
       "4           4                               Read  1.0 out of 5 stars   \n",
       "\n",
       "                                         Review-Body  \\\n",
       "0                                       Hang problem   \n",
       "1  I'm writing this review after using 3days !!!B...   \n",
       "2  Camera is so good n very fast phone back look ...   \n",
       "3  The media could not be loaded.\\n              ...   \n",
       "4  I got my delivery on 23 feb when I unboxed the...   \n",
       "\n",
       "                                        Product Name  \n",
       "0  OnePlus Nord CE 2 5G (Gray Mirror, 8GB RAM, 12...  \n",
       "1  OnePlus Nord CE 2 5G (Gray Mirror, 8GB RAM, 12...  \n",
       "2  OnePlus Nord CE 2 5G (Gray Mirror, 8GB RAM, 12...  \n",
       "3  OnePlus Nord CE 2 5G (Gray Mirror, 8GB RAM, 12...  \n",
       "4  OnePlus Nord CE 2 5G (Gray Mirror, 8GB RAM, 12...  "
      ]
     },
     "execution_count": 3,
     "metadata": {},
     "output_type": "execute_result"
    }
   ],
   "source": [
    "data.head()"
   ]
  },
  {
   "cell_type": "markdown",
   "id": "fc6620f1",
   "metadata": {},
   "source": [
    "# Cleaning the data"
   ]
  },
  {
   "cell_type": "code",
   "execution_count": 4,
   "id": "83750745",
   "metadata": {},
   "outputs": [
    {
     "data": {
      "text/html": [
       "<div>\n",
       "<style scoped>\n",
       "    .dataframe tbody tr th:only-of-type {\n",
       "        vertical-align: middle;\n",
       "    }\n",
       "\n",
       "    .dataframe tbody tr th {\n",
       "        vertical-align: top;\n",
       "    }\n",
       "\n",
       "    .dataframe thead th {\n",
       "        text-align: right;\n",
       "    }\n",
       "</style>\n",
       "<table border=\"1\" class=\"dataframe\">\n",
       "  <thead>\n",
       "    <tr style=\"text-align: right;\">\n",
       "      <th></th>\n",
       "      <th>Review-Title</th>\n",
       "      <th>rating</th>\n",
       "      <th>Review-Body</th>\n",
       "      <th>Product Name</th>\n",
       "    </tr>\n",
       "  </thead>\n",
       "  <tbody>\n",
       "    <tr>\n",
       "      <th>0</th>\n",
       "      <td>Worst phone ever</td>\n",
       "      <td>1.0 out of 5 stars</td>\n",
       "      <td>Hang problem</td>\n",
       "      <td>OnePlus Nord CE 2 5G (Gray Mirror, 8GB RAM, 12...</td>\n",
       "    </tr>\n",
       "    <tr>\n",
       "      <th>1</th>\n",
       "      <td>Ok !!! Not up to the mark</td>\n",
       "      <td>2.0 out of 5 stars</td>\n",
       "      <td>I'm writing this review after using 3days !!!B...</td>\n",
       "      <td>OnePlus Nord CE 2 5G (Gray Mirror, 8GB RAM, 12...</td>\n",
       "    </tr>\n",
       "    <tr>\n",
       "      <th>2</th>\n",
       "      <td>Awesome look</td>\n",
       "      <td>5.0 out of 5 stars</td>\n",
       "      <td>Camera is so good n very fast phone back look ...</td>\n",
       "      <td>OnePlus Nord CE 2 5G (Gray Mirror, 8GB RAM, 12...</td>\n",
       "    </tr>\n",
       "    <tr>\n",
       "      <th>3</th>\n",
       "      <td>One plus losing is originality!!!</td>\n",
       "      <td>3.0 out of 5 stars</td>\n",
       "      <td>The media could not be loaded.\\n              ...</td>\n",
       "      <td>OnePlus Nord CE 2 5G (Gray Mirror, 8GB RAM, 12...</td>\n",
       "    </tr>\n",
       "    <tr>\n",
       "      <th>4</th>\n",
       "      <td>Read</td>\n",
       "      <td>1.0 out of 5 stars</td>\n",
       "      <td>I got my delivery on 23 feb when I unboxed the...</td>\n",
       "      <td>OnePlus Nord CE 2 5G (Gray Mirror, 8GB RAM, 12...</td>\n",
       "    </tr>\n",
       "  </tbody>\n",
       "</table>\n",
       "</div>"
      ],
      "text/plain": [
       "                        Review-Title              rating  \\\n",
       "0                   Worst phone ever  1.0 out of 5 stars   \n",
       "1          Ok !!! Not up to the mark  2.0 out of 5 stars   \n",
       "2                       Awesome look  5.0 out of 5 stars   \n",
       "3  One plus losing is originality!!!  3.0 out of 5 stars   \n",
       "4                               Read  1.0 out of 5 stars   \n",
       "\n",
       "                                         Review-Body  \\\n",
       "0                                       Hang problem   \n",
       "1  I'm writing this review after using 3days !!!B...   \n",
       "2  Camera is so good n very fast phone back look ...   \n",
       "3  The media could not be loaded.\\n              ...   \n",
       "4  I got my delivery on 23 feb when I unboxed the...   \n",
       "\n",
       "                                        Product Name  \n",
       "0  OnePlus Nord CE 2 5G (Gray Mirror, 8GB RAM, 12...  \n",
       "1  OnePlus Nord CE 2 5G (Gray Mirror, 8GB RAM, 12...  \n",
       "2  OnePlus Nord CE 2 5G (Gray Mirror, 8GB RAM, 12...  \n",
       "3  OnePlus Nord CE 2 5G (Gray Mirror, 8GB RAM, 12...  \n",
       "4  OnePlus Nord CE 2 5G (Gray Mirror, 8GB RAM, 12...  "
      ]
     },
     "execution_count": 4,
     "metadata": {},
     "output_type": "execute_result"
    }
   ],
   "source": [
    "data.drop('Unnamed: 0',axis = 1, inplace = True)# removing the unwanted columns\n",
    "data.head()"
   ]
  },
  {
   "cell_type": "code",
   "execution_count": 5,
   "id": "cb82aab4",
   "metadata": {},
   "outputs": [
    {
     "data": {
      "text/plain": [
       "Redmi 9 Activ (Carbon Black, 4GB RAM, 64GB Storage)           4460\n",
       "OPPO A31 (Mystery Black, 6GB RAM, 128GB Storage)              4330\n",
       "Redmi 10 Prime (Bifrost Blue 4GB RAM 64GB ROM                 3768\n",
       "OnePlus Nord CE 2 5G (Gray Mirror, 8GB RAM, 128GB Storage)    3570\n",
       "Redmi Note 11 (Space Black, 4GB RAM, 64GB Storage)            2724\n",
       "realme narzo 50A (Oxygen Blue , 4GB RAM + 64 GB Storage)      2166\n",
       "vivo iQOO Z6 5G (Chromatic Blue, 6GB RAM, 128GB Storage)      1419\n",
       "Samsung Galaxy M32                                            1340\n",
       "Name: Product Name, dtype: int64"
      ]
     },
     "execution_count": 5,
     "metadata": {},
     "output_type": "execute_result"
    }
   ],
   "source": [
    "data['Product Name'].value_counts() #unique products"
   ]
  },
  {
   "cell_type": "code",
   "execution_count": 6,
   "id": "bec522dd",
   "metadata": {},
   "outputs": [
    {
     "data": {
      "text/plain": [
       "Review-Title      2\n",
       "rating            0\n",
       "Review-Body     617\n",
       "Product Name      0\n",
       "dtype: int64"
      ]
     },
     "execution_count": 6,
     "metadata": {},
     "output_type": "execute_result"
    }
   ],
   "source": [
    "data.isnull().sum() # checking for null values"
   ]
  },
  {
   "cell_type": "code",
   "execution_count": 7,
   "id": "8b2d0e2f",
   "metadata": {
    "scrolled": true
   },
   "outputs": [],
   "source": [
    "data.fillna(method='ffill', inplace=True) # Forward filling of the missing/null values"
   ]
  },
  {
   "cell_type": "code",
   "execution_count": 8,
   "id": "02b3f6bd",
   "metadata": {},
   "outputs": [
    {
     "data": {
      "text/plain": [
       "Review-Title    0\n",
       "rating          0\n",
       "Review-Body     0\n",
       "Product Name    0\n",
       "dtype: int64"
      ]
     },
     "execution_count": 8,
     "metadata": {},
     "output_type": "execute_result"
    }
   ],
   "source": [
    "data.isnull().sum()"
   ]
  },
  {
   "cell_type": "code",
   "execution_count": 9,
   "id": "d88f56c2",
   "metadata": {
    "scrolled": true
   },
   "outputs": [
    {
     "data": {
      "text/plain": [
       "(23777, 4)"
      ]
     },
     "execution_count": 9,
     "metadata": {},
     "output_type": "execute_result"
    }
   ],
   "source": [
    "data.shape"
   ]
  },
  {
   "cell_type": "code",
   "execution_count": 10,
   "id": "d6df55eb",
   "metadata": {},
   "outputs": [],
   "source": [
    "for i in range(len(data['rating'])):\n",
    "    data['rating'][i] = int(data['rating'][i][0])# modifying the rating column"
   ]
  },
  {
   "cell_type": "code",
   "execution_count": 11,
   "id": "2fdddc02",
   "metadata": {
    "scrolled": false
   },
   "outputs": [
    {
     "data": {
      "text/plain": [
       "5    9399\n",
       "1    5231\n",
       "4    4886\n",
       "3    2703\n",
       "2    1558\n",
       "Name: rating, dtype: int64"
      ]
     },
     "execution_count": 11,
     "metadata": {},
     "output_type": "execute_result"
    }
   ],
   "source": [
    "data['rating'].value_counts()"
   ]
  },
  {
   "cell_type": "markdown",
   "id": "c7743dd3",
   "metadata": {},
   "source": [
    "# Table creation for each product rating"
   ]
  },
  {
   "cell_type": "code",
   "execution_count": 12,
   "id": "8ebffc64",
   "metadata": {},
   "outputs": [],
   "source": [
    "df = pd.DataFrame(columns = ['Product_Name','Overall rating'])# creating table for product ratings"
   ]
  },
  {
   "cell_type": "code",
   "execution_count": 13,
   "id": "709e90de",
   "metadata": {},
   "outputs": [],
   "source": [
    "n = 0\n",
    "for i in (data['Product Name'].unique()):\n",
    "    q = i\n",
    "    p = 0\n",
    "    y = 0\n",
    "    for j in range(len(data['Product Name'])):\n",
    "        x = data['Product Name'][j]\n",
    "        if x == i:\n",
    "            p = p + data['rating'][j]\n",
    "            y = y + 1\n",
    "    rat = round((p/y),2)\n",
    "    df.loc[n] = [q,rat]\n",
    "    n = n + 1"
   ]
  },
  {
   "cell_type": "code",
   "execution_count": 14,
   "id": "142179e7",
   "metadata": {},
   "outputs": [
    {
     "name": "stdout",
     "output_type": "stream",
     "text": [
      "                                        Product_Name  Overall rating\n",
      "0  OnePlus Nord CE 2 5G (Gray Mirror, 8GB RAM, 12...            3.76\n",
      "1   OPPO A31 (Mystery Black, 6GB RAM, 128GB Storage)            3.73\n",
      "2  realme narzo 50A (Oxygen Blue , 4GB RAM + 64 G...            3.66\n",
      "3      Redmi 10 Prime (Bifrost Blue 4GB RAM 64GB ROM            3.28\n",
      "4  Redmi 9 Activ (Carbon Black, 4GB RAM, 64GB Sto...            3.40\n",
      "5  Redmi Note 11 (Space Black, 4GB RAM, 64GB Stor...            3.30\n",
      "6                                 Samsung Galaxy M32            3.18\n",
      "7  vivo iQOO Z6 5G (Chromatic Blue, 6GB RAM, 128G...            3.32\n"
     ]
    }
   ],
   "source": [
    "print(df)"
   ]
  },
  {
   "cell_type": "code",
   "execution_count": 15,
   "id": "7a52dc57",
   "metadata": {},
   "outputs": [],
   "source": [
    "data['review_type'] = np.nan"
   ]
  },
  {
   "cell_type": "code",
   "execution_count": 16,
   "id": "9bfcb5ff",
   "metadata": {
    "scrolled": true
   },
   "outputs": [
    {
     "data": {
      "text/html": [
       "<div>\n",
       "<style scoped>\n",
       "    .dataframe tbody tr th:only-of-type {\n",
       "        vertical-align: middle;\n",
       "    }\n",
       "\n",
       "    .dataframe tbody tr th {\n",
       "        vertical-align: top;\n",
       "    }\n",
       "\n",
       "    .dataframe thead th {\n",
       "        text-align: right;\n",
       "    }\n",
       "</style>\n",
       "<table border=\"1\" class=\"dataframe\">\n",
       "  <thead>\n",
       "    <tr style=\"text-align: right;\">\n",
       "      <th></th>\n",
       "      <th>Review-Title</th>\n",
       "      <th>rating</th>\n",
       "      <th>Review-Body</th>\n",
       "      <th>Product Name</th>\n",
       "      <th>review_type</th>\n",
       "    </tr>\n",
       "  </thead>\n",
       "  <tbody>\n",
       "    <tr>\n",
       "      <th>0</th>\n",
       "      <td>Worst phone ever</td>\n",
       "      <td>1</td>\n",
       "      <td>Hang problem</td>\n",
       "      <td>OnePlus Nord CE 2 5G (Gray Mirror, 8GB RAM, 12...</td>\n",
       "      <td>NaN</td>\n",
       "    </tr>\n",
       "    <tr>\n",
       "      <th>1</th>\n",
       "      <td>Ok !!! Not up to the mark</td>\n",
       "      <td>2</td>\n",
       "      <td>I'm writing this review after using 3days !!!B...</td>\n",
       "      <td>OnePlus Nord CE 2 5G (Gray Mirror, 8GB RAM, 12...</td>\n",
       "      <td>NaN</td>\n",
       "    </tr>\n",
       "    <tr>\n",
       "      <th>2</th>\n",
       "      <td>Awesome look</td>\n",
       "      <td>5</td>\n",
       "      <td>Camera is so good n very fast phone back look ...</td>\n",
       "      <td>OnePlus Nord CE 2 5G (Gray Mirror, 8GB RAM, 12...</td>\n",
       "      <td>NaN</td>\n",
       "    </tr>\n",
       "    <tr>\n",
       "      <th>3</th>\n",
       "      <td>One plus losing is originality!!!</td>\n",
       "      <td>3</td>\n",
       "      <td>The media could not be loaded.\\n              ...</td>\n",
       "      <td>OnePlus Nord CE 2 5G (Gray Mirror, 8GB RAM, 12...</td>\n",
       "      <td>NaN</td>\n",
       "    </tr>\n",
       "    <tr>\n",
       "      <th>4</th>\n",
       "      <td>Read</td>\n",
       "      <td>1</td>\n",
       "      <td>I got my delivery on 23 feb when I unboxed the...</td>\n",
       "      <td>OnePlus Nord CE 2 5G (Gray Mirror, 8GB RAM, 12...</td>\n",
       "      <td>NaN</td>\n",
       "    </tr>\n",
       "  </tbody>\n",
       "</table>\n",
       "</div>"
      ],
      "text/plain": [
       "                        Review-Title rating  \\\n",
       "0                   Worst phone ever      1   \n",
       "1          Ok !!! Not up to the mark      2   \n",
       "2                       Awesome look      5   \n",
       "3  One plus losing is originality!!!      3   \n",
       "4                               Read      1   \n",
       "\n",
       "                                         Review-Body  \\\n",
       "0                                       Hang problem   \n",
       "1  I'm writing this review after using 3days !!!B...   \n",
       "2  Camera is so good n very fast phone back look ...   \n",
       "3  The media could not be loaded.\\n              ...   \n",
       "4  I got my delivery on 23 feb when I unboxed the...   \n",
       "\n",
       "                                        Product Name  review_type  \n",
       "0  OnePlus Nord CE 2 5G (Gray Mirror, 8GB RAM, 12...          NaN  \n",
       "1  OnePlus Nord CE 2 5G (Gray Mirror, 8GB RAM, 12...          NaN  \n",
       "2  OnePlus Nord CE 2 5G (Gray Mirror, 8GB RAM, 12...          NaN  \n",
       "3  OnePlus Nord CE 2 5G (Gray Mirror, 8GB RAM, 12...          NaN  \n",
       "4  OnePlus Nord CE 2 5G (Gray Mirror, 8GB RAM, 12...          NaN  "
      ]
     },
     "execution_count": 16,
     "metadata": {},
     "output_type": "execute_result"
    }
   ],
   "source": [
    "data.head()"
   ]
  },
  {
   "cell_type": "markdown",
   "id": "577821d4",
   "metadata": {},
   "source": [
    "# Determining the sentiment of the Review"
   ]
  },
  {
   "cell_type": "code",
   "execution_count": 17,
   "id": "f222449b",
   "metadata": {},
   "outputs": [
    {
     "name": "stderr",
     "output_type": "stream",
     "text": [
      "c:\\users\\gowthsm\\appdata\\local\\programs\\python\\python37\\lib\\site-packages\\ipykernel_launcher.py:16: SettingWithCopyWarning: \n",
      "A value is trying to be set on a copy of a slice from a DataFrame\n",
      "\n",
      "See the caveats in the documentation: https://pandas.pydata.org/pandas-docs/stable/user_guide/indexing.html#returning-a-view-versus-a-copy\n",
      "  \n",
      "c:\\users\\gowthsm\\appdata\\local\\programs\\python\\python37\\lib\\site-packages\\pandas\\core\\indexing.py:1732: SettingWithCopyWarning: \n",
      "A value is trying to be set on a copy of a slice from a DataFrame\n",
      "\n",
      "See the caveats in the documentation: https://pandas.pydata.org/pandas-docs/stable/user_guide/indexing.html#returning-a-view-versus-a-copy\n",
      "  self._setitem_single_block(indexer, value, name)\n"
     ]
    }
   ],
   "source": [
    "from textblob import TextBlob\n",
    "\n",
    "# Example sentence to analyze\n",
    "for i in range(len(data['Review-Body'])):\n",
    "    sentence = data['Review-Body'][i]\n",
    "\n",
    "    # Analyze the sentiment of the sentence\n",
    "    sentiment = TextBlob(sentence).sentiment.polarity\n",
    "\n",
    "    # Determine the sentiment label\n",
    "    if sentiment > 0:\n",
    "        data['review_type'][i] = 'Positive'\n",
    "    elif sentiment < 0:\n",
    "        data['review_type'][i] = 'Negative'\n",
    "    else:\n",
    "        data['review_type'][i] = 'Neutral'"
   ]
  },
  {
   "cell_type": "code",
   "execution_count": 18,
   "id": "a8387567",
   "metadata": {},
   "outputs": [
    {
     "data": {
      "text/html": [
       "<div>\n",
       "<style scoped>\n",
       "    .dataframe tbody tr th:only-of-type {\n",
       "        vertical-align: middle;\n",
       "    }\n",
       "\n",
       "    .dataframe tbody tr th {\n",
       "        vertical-align: top;\n",
       "    }\n",
       "\n",
       "    .dataframe thead th {\n",
       "        text-align: right;\n",
       "    }\n",
       "</style>\n",
       "<table border=\"1\" class=\"dataframe\">\n",
       "  <thead>\n",
       "    <tr style=\"text-align: right;\">\n",
       "      <th></th>\n",
       "      <th>Review-Title</th>\n",
       "      <th>rating</th>\n",
       "      <th>Review-Body</th>\n",
       "      <th>Product Name</th>\n",
       "      <th>review_type</th>\n",
       "    </tr>\n",
       "  </thead>\n",
       "  <tbody>\n",
       "    <tr>\n",
       "      <th>0</th>\n",
       "      <td>Worst phone ever</td>\n",
       "      <td>1</td>\n",
       "      <td>Hang problem</td>\n",
       "      <td>OnePlus Nord CE 2 5G (Gray Mirror, 8GB RAM, 12...</td>\n",
       "      <td>Neutral</td>\n",
       "    </tr>\n",
       "    <tr>\n",
       "      <th>1</th>\n",
       "      <td>Ok !!! Not up to the mark</td>\n",
       "      <td>2</td>\n",
       "      <td>I'm writing this review after using 3days !!!B...</td>\n",
       "      <td>OnePlus Nord CE 2 5G (Gray Mirror, 8GB RAM, 12...</td>\n",
       "      <td>Positive</td>\n",
       "    </tr>\n",
       "    <tr>\n",
       "      <th>2</th>\n",
       "      <td>Awesome look</td>\n",
       "      <td>5</td>\n",
       "      <td>Camera is so good n very fast phone back look ...</td>\n",
       "      <td>OnePlus Nord CE 2 5G (Gray Mirror, 8GB RAM, 12...</td>\n",
       "      <td>Positive</td>\n",
       "    </tr>\n",
       "    <tr>\n",
       "      <th>3</th>\n",
       "      <td>One plus losing is originality!!!</td>\n",
       "      <td>3</td>\n",
       "      <td>The media could not be loaded.\\n              ...</td>\n",
       "      <td>OnePlus Nord CE 2 5G (Gray Mirror, 8GB RAM, 12...</td>\n",
       "      <td>Positive</td>\n",
       "    </tr>\n",
       "    <tr>\n",
       "      <th>4</th>\n",
       "      <td>Read</td>\n",
       "      <td>1</td>\n",
       "      <td>I got my delivery on 23 feb when I unboxed the...</td>\n",
       "      <td>OnePlus Nord CE 2 5G (Gray Mirror, 8GB RAM, 12...</td>\n",
       "      <td>Positive</td>\n",
       "    </tr>\n",
       "  </tbody>\n",
       "</table>\n",
       "</div>"
      ],
      "text/plain": [
       "                        Review-Title rating  \\\n",
       "0                   Worst phone ever      1   \n",
       "1          Ok !!! Not up to the mark      2   \n",
       "2                       Awesome look      5   \n",
       "3  One plus losing is originality!!!      3   \n",
       "4                               Read      1   \n",
       "\n",
       "                                         Review-Body  \\\n",
       "0                                       Hang problem   \n",
       "1  I'm writing this review after using 3days !!!B...   \n",
       "2  Camera is so good n very fast phone back look ...   \n",
       "3  The media could not be loaded.\\n              ...   \n",
       "4  I got my delivery on 23 feb when I unboxed the...   \n",
       "\n",
       "                                        Product Name review_type  \n",
       "0  OnePlus Nord CE 2 5G (Gray Mirror, 8GB RAM, 12...     Neutral  \n",
       "1  OnePlus Nord CE 2 5G (Gray Mirror, 8GB RAM, 12...    Positive  \n",
       "2  OnePlus Nord CE 2 5G (Gray Mirror, 8GB RAM, 12...    Positive  \n",
       "3  OnePlus Nord CE 2 5G (Gray Mirror, 8GB RAM, 12...    Positive  \n",
       "4  OnePlus Nord CE 2 5G (Gray Mirror, 8GB RAM, 12...    Positive  "
      ]
     },
     "execution_count": 18,
     "metadata": {},
     "output_type": "execute_result"
    }
   ],
   "source": [
    "data.head()"
   ]
  },
  {
   "cell_type": "code",
   "execution_count": 19,
   "id": "4fe5f479",
   "metadata": {},
   "outputs": [
    {
     "data": {
      "text/plain": [
       "Positive    14391\n",
       "Negative     4935\n",
       "Neutral      4451\n",
       "Name: review_type, dtype: int64"
      ]
     },
     "execution_count": 19,
     "metadata": {},
     "output_type": "execute_result"
    }
   ],
   "source": [
    "data['review_type'].value_counts()"
   ]
  }
 ],
 "metadata": {
  "kernelspec": {
   "display_name": "Python 3 (ipykernel)",
   "language": "python",
   "name": "python3"
  },
  "language_info": {
   "codemirror_mode": {
    "name": "ipython",
    "version": 3
   },
   "file_extension": ".py",
   "mimetype": "text/x-python",
   "name": "python",
   "nbconvert_exporter": "python",
   "pygments_lexer": "ipython3",
   "version": "3.7.9"
  }
 },
 "nbformat": 4,
 "nbformat_minor": 5
}
